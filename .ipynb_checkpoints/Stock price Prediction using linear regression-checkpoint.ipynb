{
 "cells": [
  {
   "cell_type": "code",
   "execution_count": null,
   "id": "9cc42c46",
   "metadata": {},
   "outputs": [],
   "source": [
    "import numpy as np\n",
    "import matplotlib.pyplot as plt\n",
    "import pandas as pd\n",
    "import sklearn as sk \n",
    "\n",
    "\n",
    "\n",
    "from matplotlib.colors import ListedColormap \n",
    "from sklearn.model_selection import train_test_split \n",
    "from sklearn.preprocessing import StandardScaler\n",
    "from sklearn.metrics import accuracy_score\n",
    "from sklearn.linear_model import LogisticRegression\n",
    "\n",
    "from sklearn.feature_selection import SelectFromModel\n",
    "\n",
    "import statsmodels.api as sm"
   ]
  },
  {
   "cell_type": "code",
   "execution_count": null,
   "id": "e1599f14",
   "metadata": {},
   "outputs": [],
   "source": [
    "amazonstockdata = pd.read_csv ('AMZN.csv')\n",
    "amazonstockdata.shape"
   ]
  },
  {
   "cell_type": "code",
   "execution_count": 181,
   "id": "8829bfbc",
   "metadata": {},
   "outputs": [],
   "source": [
    "from sklearn.preprocessing import OrdinalEncoder\n",
    "encoder = OrdinalEncoder()\n",
    "n=200"
   ]
  },
  {
   "cell_type": "code",
   "execution_count": 182,
   "id": "075af3b0",
   "metadata": {},
   "outputs": [
    {
     "data": {
      "text/plain": [
       "array([[0.],\n",
       "       [0.],\n",
       "       [0.],\n",
       "       ...,\n",
       "       [0.],\n",
       "       [0.],\n",
       "       [0.]])"
      ]
     },
     "execution_count": 182,
     "metadata": {},
     "output_type": "execute_result"
    }
   ],
   "source": [
    "X = amazonstockdata.iloc [:n,1:6].values\n",
    "x1= amazonstockdata.iloc [:n,8].values\n",
    "y = amazonstockdata.iloc [:n,6].values\n",
    "col_names=['cough','fever','sore_throat','shortness_of_breath','head_ache']\n",
    "data= pd.DataFrame(data=X,columns=col_names)\n",
    "data['gender']=coviddata.iloc [:n,8].values\n",
    "data['contact_with_covid+']=coviddata.iloc [:n,9].values\n",
    "\n",
    "x1=x1.reshape(-1, 1)\n",
    "encoder.fit(x1)\n",
    "data['gender'] = encoder.transform(x1)\n",
    "\n",
    "\n",
    "x1=coviddata.iloc [:n,9].values\n",
    "x1=x1.reshape(-1, 1)\n",
    "encoder.fit(x1)\n",
    "data['contact_with_covid+'] = encoder.transform(x1)\n",
    "\n",
    "\n",
    "\n",
    "y=y.reshape(-1, 1)\n",
    "encoder.fit(y)\n",
    "y=encoder.transform(y)\n",
    "\n",
    "\n",
    "y"
   ]
  },
  {
   "cell_type": "code",
   "execution_count": 189,
   "id": "b22b0b76",
   "metadata": {},
   "outputs": [
    {
     "data": {
      "text/html": [
       "<div>\n",
       "<style scoped>\n",
       "    .dataframe tbody tr th:only-of-type {\n",
       "        vertical-align: middle;\n",
       "    }\n",
       "\n",
       "    .dataframe tbody tr th {\n",
       "        vertical-align: top;\n",
       "    }\n",
       "\n",
       "    .dataframe thead th {\n",
       "        text-align: right;\n",
       "    }\n",
       "</style>\n",
       "<table border=\"1\" class=\"dataframe\">\n",
       "  <thead>\n",
       "    <tr style=\"text-align: right;\">\n",
       "      <th></th>\n",
       "      <th>cough</th>\n",
       "      <th>fever</th>\n",
       "      <th>sore_throat</th>\n",
       "      <th>shortness_of_breath</th>\n",
       "      <th>head_ache</th>\n",
       "      <th>gender</th>\n",
       "      <th>contact_with_covid+</th>\n",
       "    </tr>\n",
       "  </thead>\n",
       "  <tbody>\n",
       "    <tr>\n",
       "      <th>16152</th>\n",
       "      <td>0</td>\n",
       "      <td>0</td>\n",
       "      <td>0</td>\n",
       "      <td>0</td>\n",
       "      <td>0</td>\n",
       "      <td>2.0</td>\n",
       "      <td>2.0</td>\n",
       "    </tr>\n",
       "    <tr>\n",
       "      <th>17768</th>\n",
       "      <td>0</td>\n",
       "      <td>0</td>\n",
       "      <td>0</td>\n",
       "      <td>0</td>\n",
       "      <td>0</td>\n",
       "      <td>1.0</td>\n",
       "      <td>2.0</td>\n",
       "    </tr>\n",
       "    <tr>\n",
       "      <th>19492</th>\n",
       "      <td>0</td>\n",
       "      <td>0</td>\n",
       "      <td>0</td>\n",
       "      <td>0</td>\n",
       "      <td>0</td>\n",
       "      <td>0.0</td>\n",
       "      <td>2.0</td>\n",
       "    </tr>\n",
       "    <tr>\n",
       "      <th>15797</th>\n",
       "      <td>1</td>\n",
       "      <td>0</td>\n",
       "      <td>0</td>\n",
       "      <td>0</td>\n",
       "      <td>0</td>\n",
       "      <td>2.0</td>\n",
       "      <td>0.0</td>\n",
       "    </tr>\n",
       "    <tr>\n",
       "      <th>6666</th>\n",
       "      <td>0</td>\n",
       "      <td>0</td>\n",
       "      <td>0</td>\n",
       "      <td>0</td>\n",
       "      <td>0</td>\n",
       "      <td>2.0</td>\n",
       "      <td>2.0</td>\n",
       "    </tr>\n",
       "    <tr>\n",
       "      <th>...</th>\n",
       "      <td>...</td>\n",
       "      <td>...</td>\n",
       "      <td>...</td>\n",
       "      <td>...</td>\n",
       "      <td>...</td>\n",
       "      <td>...</td>\n",
       "      <td>...</td>\n",
       "    </tr>\n",
       "    <tr>\n",
       "      <th>13123</th>\n",
       "      <td>0</td>\n",
       "      <td>0</td>\n",
       "      <td>0</td>\n",
       "      <td>0</td>\n",
       "      <td>0</td>\n",
       "      <td>2.0</td>\n",
       "      <td>2.0</td>\n",
       "    </tr>\n",
       "    <tr>\n",
       "      <th>19648</th>\n",
       "      <td>1</td>\n",
       "      <td>0</td>\n",
       "      <td>0</td>\n",
       "      <td>0</td>\n",
       "      <td>0</td>\n",
       "      <td>2.0</td>\n",
       "      <td>2.0</td>\n",
       "    </tr>\n",
       "    <tr>\n",
       "      <th>9845</th>\n",
       "      <td>0</td>\n",
       "      <td>0</td>\n",
       "      <td>0</td>\n",
       "      <td>0</td>\n",
       "      <td>0</td>\n",
       "      <td>2.0</td>\n",
       "      <td>2.0</td>\n",
       "    </tr>\n",
       "    <tr>\n",
       "      <th>10799</th>\n",
       "      <td>1</td>\n",
       "      <td>0</td>\n",
       "      <td>0</td>\n",
       "      <td>0</td>\n",
       "      <td>0</td>\n",
       "      <td>1.0</td>\n",
       "      <td>2.0</td>\n",
       "    </tr>\n",
       "    <tr>\n",
       "      <th>2732</th>\n",
       "      <td>0</td>\n",
       "      <td>0</td>\n",
       "      <td>0</td>\n",
       "      <td>0</td>\n",
       "      <td>0</td>\n",
       "      <td>2.0</td>\n",
       "      <td>2.0</td>\n",
       "    </tr>\n",
       "  </tbody>\n",
       "</table>\n",
       "<p>15000 rows × 7 columns</p>\n",
       "</div>"
      ],
      "text/plain": [
       "      cough fever sore_throat shortness_of_breath head_ache  gender  \\\n",
       "16152     0     0           0                   0         0     2.0   \n",
       "17768     0     0           0                   0         0     1.0   \n",
       "19492     0     0           0                   0         0     0.0   \n",
       "15797     1     0           0                   0         0     2.0   \n",
       "6666      0     0           0                   0         0     2.0   \n",
       "...     ...   ...         ...                 ...       ...     ...   \n",
       "13123     0     0           0                   0         0     2.0   \n",
       "19648     1     0           0                   0         0     2.0   \n",
       "9845      0     0           0                   0         0     2.0   \n",
       "10799     1     0           0                   0         0     1.0   \n",
       "2732      0     0           0                   0         0     2.0   \n",
       "\n",
       "       contact_with_covid+  \n",
       "16152                  2.0  \n",
       "17768                  2.0  \n",
       "19492                  2.0  \n",
       "15797                  0.0  \n",
       "6666                   2.0  \n",
       "...                    ...  \n",
       "13123                  2.0  \n",
       "19648                  2.0  \n",
       "9845                   2.0  \n",
       "10799                  2.0  \n",
       "2732                   2.0  \n",
       "\n",
       "[15000 rows x 7 columns]"
      ]
     },
     "execution_count": 189,
     "metadata": {},
     "output_type": "execute_result"
    }
   ],
   "source": [
    "from sklearn.model_selection import train_test_split\n",
    "X_train, X_test, y_train, y_test = train_test_split (data, y, test_size = 1/4, \n",
    "                                                     random_state = 0)\n",
    "\n",
    "X_train"
   ]
  },
  {
   "cell_type": "code",
   "execution_count": 184,
   "id": "3fd745a8",
   "metadata": {},
   "outputs": [],
   "source": [
    "#from sklearn.preprocessing import StandardScaler\n",
    "#independent_scalar = StandardScaler()\n",
    "#X_train = independent_scalar.fit_transform (X_train) #fit and transform\n",
    "#X_test = independent_scalar.transform (X_test) # only transform"
   ]
  },
  {
   "cell_type": "code",
   "execution_count": 185,
   "id": "e20869ea",
   "metadata": {},
   "outputs": [
    {
     "name": "stderr",
     "output_type": "stream",
     "text": [
      "c:\\users\\mahab\\appdata\\local\\programs\\python\\python39\\lib\\site-packages\\sklearn\\utils\\validation.py:63: DataConversionWarning: A column-vector y was passed when a 1d array was expected. Please change the shape of y to (n_samples, ), for example using ravel().\n",
      "  return f(*args, **kwargs)\n"
     ]
    },
    {
     "data": {
      "text/plain": [
       "LogisticRegression(random_state=0)"
      ]
     },
     "execution_count": 185,
     "metadata": {},
     "output_type": "execute_result"
    }
   ],
   "source": [
    "from sklearn.linear_model import LogisticRegression\n",
    "LRClassifier = LogisticRegression (random_state = 0)\n",
    "LRClassifier.fit (X_train, y_train)"
   ]
  },
  {
   "cell_type": "code",
   "execution_count": 186,
   "id": "13f16eb6",
   "metadata": {},
   "outputs": [
    {
     "name": "stdout",
     "output_type": "stream",
     "text": [
      "[[0.]] [[0.]]\n"
     ]
    },
    {
     "name": "stderr",
     "output_type": "stream",
     "text": [
      "c:\\users\\mahab\\appdata\\local\\programs\\python\\python39\\lib\\site-packages\\numpy\\core\\_asarray.py:83: VisibleDeprecationWarning: Creating an ndarray from ragged nested sequences (which is a list-or-tuple of lists-or-tuples-or ndarrays with different lengths or shapes) is deprecated. If you meant to do this, you must specify 'dtype=object' when creating the ndarray\n",
      "  return array(a, dtype, copy=False, order=order)\n",
      "c:\\users\\mahab\\appdata\\local\\programs\\python\\python39\\lib\\site-packages\\sklearn\\utils\\validation.py:63: FutureWarning: Arrays of bytes/strings is being converted to decimal numbers if dtype='numeric'. This behavior is deprecated in 0.24 and will be removed in 1.1 (renaming of 0.26). Please convert your data to numeric values explicitly instead.\n",
      "  return f(*args, **kwargs)\n"
     ]
    }
   ],
   "source": [
    "a=1.\n",
    "b=0.\n",
    "c=0.\n",
    "d=1.\n",
    "e=0.\n",
    "f=[['male']]\n",
    "g=[['other']]\n",
    "#,1,0,0,1,0,positive,Yes,male,Other\n",
    "#f=f.reshape(-1, 1)\n",
    "encoder.fit(f)\n",
    "f = encoder.transform(f)\n",
    "#g=g.reshape(-1, 1)\n",
    "encoder.fit(g)\n",
    "g = encoder.transform(g)\n",
    "\n",
    "\n",
    "\n",
    "\n",
    "\n",
    "\n",
    "\n",
    "prediction = LRClassifier.predict ([[a,b,c,d,e,f,g]])\n",
    "\n",
    "prediction\n",
    "\n",
    "print(f,g)"
   ]
  },
  {
   "cell_type": "code",
   "execution_count": 187,
   "id": "06e0da21",
   "metadata": {},
   "outputs": [
    {
     "name": "stdout",
     "output_type": "stream",
     "text": [
      "Accuracy score:  0.9718\n"
     ]
    },
    {
     "data": {
      "text/plain": [
       "array([0.00753915, 0.00753915, 0.0081509 , ..., 0.00753915, 0.00753915,\n",
       "       0.0081509 ])"
      ]
     },
     "execution_count": 187,
     "metadata": {},
     "output_type": "execute_result"
    }
   ],
   "source": [
    "# Predicting the test results\n",
    "y_pred = LRClassifier.predict(X_test)\n",
    "print(\"Accuracy score: \", accuracy_score(y_test, y_pred))\n",
    "\n",
    "y_pred_proba = LRClassifier.predict_proba(X_test)[::,1]\n",
    "y_pred_proba"
   ]
  },
  {
   "cell_type": "code",
   "execution_count": 190,
   "id": "ef25051a",
   "metadata": {},
   "outputs": [
    {
     "data": {
      "text/plain": [
       "array([[-0.04285044,  0.00539787,  0.01902055,  0.09647643,  0.09647643,\n",
       "        -0.04837609,  0.47521532],\n",
       "       [ 0.08189729,  0.02776946, -0.00716942, -0.0124692 , -0.0124692 ,\n",
       "         0.03120199,  0.15659203],\n",
       "       [-0.03904685, -0.03316733, -0.01185113, -0.08400723, -0.08400723,\n",
       "         0.0171741 , -0.63180735]])"
      ]
     },
     "execution_count": 190,
     "metadata": {},
     "output_type": "execute_result"
    }
   ],
   "source": [
    "LRClassifier.coef_"
   ]
  },
  {
   "cell_type": "code",
   "execution_count": null,
   "id": "6d2fd7c3",
   "metadata": {},
   "outputs": [],
   "source": [
    "y_pred_proba = LRClassifier.predict_proba([[a,b,c,d,e,f,g]])[::,1]\n",
    "y_pred_proba"
   ]
  },
  {
   "cell_type": "code",
   "execution_count": null,
   "id": "3a23c9bd",
   "metadata": {},
   "outputs": [],
   "source": []
  },
  {
   "cell_type": "code",
   "execution_count": null,
   "id": "b65120da",
   "metadata": {},
   "outputs": [],
   "source": []
  },
  {
   "cell_type": "code",
   "execution_count": null,
   "id": "5a7b8b26",
   "metadata": {},
   "outputs": [],
   "source": []
  },
  {
   "cell_type": "code",
   "execution_count": null,
   "id": "a2af2fe9",
   "metadata": {},
   "outputs": [],
   "source": []
  }
 ],
 "metadata": {
  "kernelspec": {
   "display_name": "Python 3",
   "language": "python",
   "name": "python3"
  },
  "language_info": {
   "codemirror_mode": {
    "name": "ipython",
    "version": 3
   },
   "file_extension": ".py",
   "mimetype": "text/x-python",
   "name": "python",
   "nbconvert_exporter": "python",
   "pygments_lexer": "ipython3",
   "version": "3.9.5"
  }
 },
 "nbformat": 4,
 "nbformat_minor": 5
}
