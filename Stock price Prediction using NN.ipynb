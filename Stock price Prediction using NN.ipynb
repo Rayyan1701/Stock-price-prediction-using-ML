{
 "cells": [
  {
   "cell_type": "code",
   "execution_count": 11,
   "id": "571533db",
   "metadata": {},
   "outputs": [],
   "source": [
    "import numpy as np\n",
    "import matplotlib.pyplot as plt\n",
    "import pandas as pd\n",
    "import sklearn as sk \n",
    "\n",
    "\n",
    "\n",
    "from matplotlib.colors import ListedColormap \n",
    "from sklearn.model_selection import train_test_split \n",
    "from sklearn.preprocessing import StandardScaler\n",
    "from sklearn.metrics import accuracy_score\n",
    "from sklearn.linear_model import LogisticRegression\n",
    "\n",
    "from sklearn.feature_selection import SelectFromModel\n",
    "\n",
    "import statsmodels.api as sm"
   ]
  },
  {
   "cell_type": "code",
   "execution_count": 12,
   "id": "7f0d78a2",
   "metadata": {},
   "outputs": [
    {
     "data": {
      "text/plain": [
       "(252, 7)"
      ]
     },
     "execution_count": 12,
     "metadata": {},
     "output_type": "execute_result"
    }
   ],
   "source": [
    "amazonstockdata = pd.read_csv ('AMZN.csv')\n",
    "amazonstockdata.shape"
   ]
  },
  {
   "cell_type": "code",
   "execution_count": 13,
   "id": "8c6ed3b7",
   "metadata": {},
   "outputs": [],
   "source": [
    "from sklearn.preprocessing import OrdinalEncoder\n",
    "encoder = OrdinalEncoder()\n",
    "n=200"
   ]
  },
  {
   "cell_type": "code",
   "execution_count": 14,
   "id": "4733110b",
   "metadata": {},
   "outputs": [],
   "source": [
    "X = amazonstockdata.iloc [:n,0].values\n",
    "X1=X\n",
    "#x1= amazonstockdata.iloc [:n,8].values\n",
    "y = amazonstockdata.iloc [:n,4].values\n",
    "col_names=['date']\n",
    "\n",
    "\n",
    "X=X.reshape(-1, 1)\n",
    "encoder.fit(X)\n",
    "X=encoder.transform(X)\n",
    "data= pd.DataFrame(data=X,columns=col_names)"
   ]
  },
  {
   "cell_type": "code",
   "execution_count": 15,
   "id": "84e3bd62",
   "metadata": {},
   "outputs": [
    {
     "data": {
      "text/plain": [
       "array([3217.01001 , 3138.379883, 3226.72998 , 3185.070068, 3262.129883,\n",
       "       3161.02002 , 3284.719971, 3146.139893, 3294.620117, 3144.879883,\n",
       "       3104.25    , 3118.060059, 3055.290039, 3225.      , 3328.22998 ,\n",
       "       3105.459961, 3095.129883, 2977.570068, 3128.98999 , 3035.02002 ,\n",
       "       3237.620117, 3131.060059, 3326.129883, 3203.530029, 3331.      ,\n",
       "       3128.810059, 3156.969971, 3051.879883, 3312.48999 , 3342.879883,\n",
       "       3299.300049, 3156.129883, 3232.580078, 3334.689941, 3116.419922,\n",
       "       3195.689941, 3084.      , 3125.      , 3294.      , 3309.040039,\n",
       "       3175.110107, 3008.909912, 3372.01001 , 3176.399902, 3362.02002 ,\n",
       "       3046.26001 , 3110.870117, 3182.699951, 3117.02002 , 3236.080078,\n",
       "       3057.159912, 3333.      , 2960.469971, 3200.      , 3099.399902,\n",
       "       3165.120117, 3098.389893, 3286.649902, 3057.639893, 3149.840088,\n",
       "       3272.709961, 2954.909912, 3008.72998 , 3143.73999 , 3033.530029,\n",
       "       3094.530029, 3162.23999 , 3279.389893, 3292.22998 , 3167.459961,\n",
       "       3164.679932, 3211.01001 , 3158.      , 2999.860107, 3220.080078,\n",
       "       3286.330078, 3008.870117, 3185.27002 , 3000.459961, 3340.879883,\n",
       "       3196.840088, 3338.649902, 3311.370117, 3256.929932, 3180.73999 ,\n",
       "       3091.860107, 3194.5     , 3135.659912, 3409.      , 3055.209961,\n",
       "       3322.      , 3186.72998 , 3401.800049, 3148.72998 , 3442.929932,\n",
       "       3104.      , 3285.850098, 3005.      , 3268.610107, 3177.290039,\n",
       "       3120.76001 , 3027.98999 , 3138.830078, 3531.449951, 3263.379883,\n",
       "       3019.790039, 3159.530029, 3120.830078, 3400.      , 3260.47998 ,\n",
       "       3206.179932, 3268.949951, 3307.459961, 3062.850098, 3114.209961,\n",
       "       3137.5     , 3346.48999 , 3380.      , 3089.48999 , 3305.      ,\n",
       "       3297.370117, 3168.040039, 3241.159912, 3036.149902, 3206.52002 ,\n",
       "       3286.580078, 3399.439941, 3184.939941, 3162.780029, 3148.02002 ,\n",
       "       2951.949951, 3048.409912, 3372.199951, 3074.959961, 3400.      ,\n",
       "       3368.      , 3221.26001 , 3206.199951, 3110.280029, 3207.209961,\n",
       "       3137.389893, 3450.959961, 3148.159912, 2986.550049, 3162.580078,\n",
       "       3363.709961, 3379.090088, 3172.689941, 3078.100098, 3135.72998 ])"
      ]
     },
     "execution_count": 15,
     "metadata": {},
     "output_type": "execute_result"
    }
   ],
   "source": [
    "from sklearn.model_selection import train_test_split\n",
    "X_train, X_test, y_train, y_test = train_test_split (data, y, test_size = 1/4, \n",
    "                                                     random_state = 0)\n",
    "\n",
    "y_train"
   ]
  },
  {
   "cell_type": "code",
   "execution_count": 81,
   "id": "f5d100f1",
   "metadata": {},
   "outputs": [
    {
     "data": {
      "text/plain": [
       "-0.3732561542622741"
      ]
     },
     "execution_count": 81,
     "metadata": {},
     "output_type": "execute_result"
    }
   ],
   "source": [
    "from sklearn.neural_network import MLPRegressor\n",
    "from sklearn.datasets import make_regression\n",
    "from sklearn.model_selection import train_test_split\n",
    "\n",
    "regr = MLPRegressor(random_state=1, max_iter=1000,activation='relu',hidden_layer_sizes=(200,200,200),batch_size=100).fit(X_train, y_train)\n",
    "\n",
    "#regr.predict(X_test[:2])\n",
    "\n",
    "regr.score(X_test, y_test)"
   ]
  },
  {
   "cell_type": "code",
   "execution_count": 82,
   "id": "307d820c",
   "metadata": {},
   "outputs": [
    {
     "data": {
      "text/plain": [
       "138.3485962915655"
      ]
     },
     "execution_count": 82,
     "metadata": {},
     "output_type": "execute_result"
    }
   ],
   "source": [
    "def rmse(predictions, targets):\n",
    "    return np.sqrt(((predictions - targets) ** 2).mean())\n",
    "\n",
    "prediction = regr.predict(X_test)\n",
    "\n",
    "p=rmse(prediction,y_test)\n",
    "\n",
    "p"
   ]
  },
  {
   "cell_type": "code",
   "execution_count": 83,
   "id": "240fc1f2",
   "metadata": {},
   "outputs": [
    {
     "data": {
      "image/png": "[encoded data removed]",
      "text/plain": [
       "<Figure size 432x288 with 1 Axes>"
      ]
     },
     "metadata": {
      "needs_background": "light"
     },
     "output_type": "display_data"
    }
   ],
   "source": [
    "X_plot = X_test\n",
    "y_plot= prediction\n",
    "plt.plot(X_plot,y_plot)\n",
    "plt.scatter(X_plot,y_test)\n",
    "plt.show()"
   ]
  },
  {
   "cell_type": "code",
   "execution_count": 84,
   "id": "ac679003",
   "metadata": {},
   "outputs": [
    {
     "data": {
      "text/plain": [
       "array([3448.2902703])"
      ]
     },
     "execution_count": 84,
     "metadata": {},
     "output_type": "execute_result"
    }
   ],
   "source": [
    "f=X1\n",
    "f=np.append(f, np.array(['2021-07-10']), axis=0)\n",
    "\n",
    "f=f.reshape(-1, 1)\n",
    "encoder.fit(f)\n",
    "f = encoder.transform(f)\n",
    "\n",
    "\n",
    "regr.predict([f[len(f)-1]])"
   ]
  },
  {
   "cell_type": "code",
   "execution_count": null,
   "id": "d3003fa6",
   "metadata": {},
   "outputs": [],
   "source": []
  }
 ],
 "metadata": {
  "kernelspec": {
   "display_name": "Python 3",
   "language": "python",
   "name": "python3"
  },
  "language_info": {
   "codemirror_mode": {
    "name": "ipython",
    "version": 3
   },
   "file_extension": ".py",
   "mimetype": "text/x-python",
   "name": "python",
   "nbconvert_exporter": "python",
   "pygments_lexer": "ipython3",
   "version": "3.9.5"
  }
 },
 "nbformat": 4,
 "nbformat_minor": 5
}
